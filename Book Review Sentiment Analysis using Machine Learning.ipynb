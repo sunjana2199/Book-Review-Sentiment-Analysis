{
 "cells": [
  {
   "cell_type": "code",
   "execution_count": 30,
   "metadata": {},
   "outputs": [],
   "source": [
    "import json\n",
    "\n",
    "filename = \"Books_small.json\"\n",
    "\n",
    "with open(filename) as f:\n",
    "    #text = f.read()\n",
    "    for line in f:\n",
    "        review =  json.loads(line)\n",
    "        print(review['reviewText'])\n",
    "        print(review[\"overall\"])\n",
    "        break"
   ]
  },
  {
   "cell_type": "code",
   "execution_count": 31,
   "metadata": {},
   "outputs": [],
   "source": [
    "reviews = []\n",
    "with open(filename) as f:\n",
    "    \n",
    "    for line in f:\n",
    "        review =  json.loads(line)\n",
    "        reviews.append((review['reviewText'],review[\"overall\"]))\n",
    "\n",
    "        "
   ]
  },
  {
   "cell_type": "markdown",
   "metadata": {},
   "source": [
    "### Cleaning data\n"
   ]
  },
  {
   "cell_type": "code",
   "execution_count": 32,
   "metadata": {},
   "outputs": [
    {
     "ename": "IndexError",
     "evalue": "list index out of range",
     "output_type": "error",
     "traceback": [
      "\u001b[1;31m---------------------------------------------------------------------------\u001b[0m",
      "\u001b[1;31mIndexError\u001b[0m                                Traceback (most recent call last)",
      "\u001b[1;32m<ipython-input-32-ca1c7041d2fd>\u001b[0m in \u001b[0;36m<module>\u001b[1;34m\u001b[0m\n\u001b[0;32m     15\u001b[0m         \u001b[0mreviews\u001b[0m\u001b[1;33m.\u001b[0m\u001b[0mappend\u001b[0m\u001b[1;33m(\u001b[0m\u001b[1;33m(\u001b[0m\u001b[0mReview\u001b[0m\u001b[1;33m(\u001b[0m\u001b[0mreview\u001b[0m\u001b[1;33m[\u001b[0m\u001b[1;34m'reviewText'\u001b[0m\u001b[1;33m]\u001b[0m\u001b[1;33m,\u001b[0m\u001b[0mreview\u001b[0m\u001b[1;33m[\u001b[0m\u001b[1;34m\"overall\"\u001b[0m\u001b[1;33m]\u001b[0m\u001b[1;33m)\u001b[0m\u001b[1;33m)\u001b[0m\u001b[1;33m)\u001b[0m\u001b[1;33m\u001b[0m\u001b[1;33m\u001b[0m\u001b[0m\n\u001b[0;32m     16\u001b[0m \u001b[1;33m\u001b[0m\u001b[0m\n\u001b[1;32m---> 17\u001b[1;33m \u001b[0mreviews\u001b[0m\u001b[1;33m[\u001b[0m\u001b[1;36m5\u001b[0m\u001b[1;33m]\u001b[0m\u001b[1;33m\u001b[0m\u001b[1;33m\u001b[0m\u001b[0m\n\u001b[0m\u001b[0;32m     18\u001b[0m \u001b[1;33m\u001b[0m\u001b[0m\n\u001b[0;32m     19\u001b[0m \u001b[1;33m\u001b[0m\u001b[0m\n",
      "\u001b[1;31mIndexError\u001b[0m: list index out of range"
     ]
    }
   ],
   "source": [
    "class Review:\n",
    "    def __init__(self,text,score) :\n",
    "        self.text = text\n",
    "        self.score = score\n",
    "        \n",
    "import json\n",
    "\n",
    "filename = \"Books_small.json\"\n",
    "\n",
    "        \n",
    "reviews = []\n",
    "with open(filename,) as f:\n",
    "    for line in f:\n",
    "        review =  json.loads(line)\n",
    "        reviews.append((Review(review['reviewText'],review[\"overall\"])))\n",
    "        \n",
    "reviews[5]\n",
    "                       \n",
    "\n",
    "        \n",
    "        "
   ]
  },
  {
   "cell_type": "markdown",
   "metadata": {},
   "source": [
    "### FURTHER CLEANING\n"
   ]
  },
  {
   "cell_type": "code",
   "execution_count": 33,
   "metadata": {},
   "outputs": [],
   "source": [
    "class Review:\n",
    "    def __init__(self,text,score) :\n",
    "        self.text = text\n",
    "        self.score = score\n",
    "        self.sentiment = self.get_sentiment()\n",
    "    \n",
    "    def get_sentiment(self) :\n",
    "        if self.score >= 4 :\n",
    "            return \"POSITIVE\"\n",
    "        elif self.score == 3:\n",
    "            return \"NEUTRAL\"\n",
    "        else : #score 1 and 2\n",
    "            return \"NEGATIVE\"\n",
    "        \n",
    "\n",
    "import json\n",
    "\n",
    "file_name = 'Books_small.json'\n",
    "\n",
    "reviews = []\n",
    "with open(file_name) as f :\n",
    "    for line in f:\n",
    "        review_json = json.loads(line)\n",
    "        review = Review(review_json['reviewText'],review_json['overall'])\n",
    "        reviews.append(review)\n",
    "    "
   ]
  },
  {
   "cell_type": "markdown",
   "metadata": {},
   "source": [
    "#### INTRODUCING ENUMS MAKES CODE READABLE"
   ]
  },
  {
   "cell_type": "code",
   "execution_count": 43,
   "metadata": {},
   "outputs": [],
   "source": [
    "import random \n",
    "\n",
    "class Sentiment :\n",
    "    Negative = \"NEGATIVE\"\n",
    "    Positive = \"POSITIVE\"\n",
    "    Neutral = \"NEUTRAL\"\n",
    "\n",
    "\n",
    "class Review:\n",
    "    def __init__(self,text,score) :\n",
    "        self.text = text\n",
    "        self.score = score\n",
    "        self.sentiment = self.get_sentiment()\n",
    "    \n",
    "    def get_sentiment(self) :\n",
    "        if self.score >= 4 :\n",
    "            return Sentiment.Positive\n",
    "        elif self.score == 3:\n",
    "            return Sentiment.Neutral\n",
    "        else : #score 1 and 2\n",
    "            return Sentiment.Negative\n",
    "        \n",
    "class ReviewContainer:\n",
    "    def __init__(self,reviews) :\n",
    "        self.reviews = reviews\n",
    "        \n",
    "    def evenlydist(self):\n",
    "        negative = list(filter(lambda x: x.sentiment == Sentiment.Negative, self.reviews))\n",
    "        positive = list(filter(lambda x: x.sentiment == Sentiment.Positive, self.reviews))\n",
    "        positive_shrunk = positive[:len(negative)]\n",
    "        self.reviews = positive_shrunk + negative\n",
    "        random.shuffle(self.reviews)\n",
    "        \n",
    "    def get_text(self):\n",
    "        return [x.text for x in self.reviews]\n",
    "    \n",
    "    def get_sentiment(self) :\n",
    "        return [x.sentiment for x in self.reviews]\n",
    "\n",
    "        \n",
    "import json\n",
    "\n",
    "file_name = 'Books_small10000.json'\n",
    "\n",
    "reviews = []\n",
    "with open(file_name) as f :\n",
    "    for line in f:\n",
    "        review_json = json.loads(line)\n",
    "        review = Review(review_json['reviewText'],review_json['overall'])\n",
    "        reviews.append(review)"
   ]
  },
  {
   "cell_type": "markdown",
   "metadata": {},
   "source": [
    "### ML HATES TEXT DATA \n",
    "### PREP DATA"
   ]
  },
  {
   "cell_type": "code",
   "execution_count": 45,
   "metadata": {},
   "outputs": [
    {
     "name": "stdout",
     "output_type": "stream",
     "text": [
      "436\n",
      "436\n"
     ]
    }
   ],
   "source": [
    "\n",
    "from sklearn.model_selection import train_test_split\n",
    "training , test = train_test_split(reviews , test_size=0.33,random_state = 42)\n",
    "\n",
    "train_container = ReviewContainer(training)\n",
    "test_container = ReviewContainer(test)\n",
    "\n",
    "train_container.evenlydist()\n",
    "test_container.evenlydist()\n",
    "\n",
    "#train_x = [ x.text for x in self]\n",
    "#train_y = [x.sentiment for x in train_container]\n",
    "\n",
    "#test_x = [x.text for x in test_container]\n",
    "#test_y = [x.sentiment for x in test_container]\n",
    "\n",
    "train_x = train_container.get_text()\n",
    "train_y = train_container.get_sentiment()\n",
    "\n",
    "test_x = test_container.get_text()\n",
    "test_y = test_container.get_sentiment()\n",
    "\n",
    "\n",
    "print(train_y.count(Sentiment.Positive))\n",
    "print(train_y.count(Sentiment.Negative))"
   ]
  },
  {
   "cell_type": "markdown",
   "metadata": {
    "collapsed": true
   },
   "source": [
    "### BAGS OF WORDS"
   ]
  },
  {
   "cell_type": "code",
   "execution_count": 47,
   "metadata": {},
   "outputs": [
    {
     "name": "stdout",
     "output_type": "stream",
     "text": [
      "Ok so maybe I would have given this book a better ratings had I known it was a novella. The was such a huge lack of development making hard to connect with the characters.\n",
      "  (0, 5496)\t1\n",
      "  (0, 7280)\t1\n",
      "  (0, 4969)\t1\n",
      "  (0, 8823)\t1\n",
      "  (0, 3669)\t1\n",
      "  (0, 3394)\t1\n",
      "  (0, 7976)\t1\n",
      "  (0, 991)\t1\n",
      "  (0, 870)\t1\n",
      "  (0, 6375)\t1\n",
      "  (0, 3577)\t1\n",
      "  (0, 4502)\t1\n",
      "  (0, 4277)\t1\n",
      "  (0, 8608)\t2\n",
      "  (0, 5422)\t1\n",
      "  (0, 7929)\t2\n",
      "  (0, 7630)\t1\n",
      "  (0, 3908)\t1\n",
      "  (0, 4519)\t1\n",
      "  (0, 5478)\t1\n",
      "  (0, 2196)\t1\n",
      "  (0, 4865)\t1\n",
      "  (0, 3631)\t1\n",
      "  (0, 8052)\t1\n",
      "  (0, 1662)\t1\n",
      "  (0, 8760)\t1\n",
      "  (0, 1362)\t1\n"
     ]
    }
   ],
   "source": [
    "from sklearn.feature_extraction.text import CountVectorizer\n",
    "vectorizer = CountVectorizer()\n",
    "train_x_vectorizer = vectorizer.fit_transform(train_x)\n",
    "\n",
    "test_x_vectorizer = vectorizer.transform(test_x)\n",
    "\n",
    "print(train_x[0])\n",
    "print(train_x_vectorizer[0])"
   ]
  },
  {
   "cell_type": "markdown",
   "metadata": {},
   "source": [
    "### A COUNT VECTORIZER WEIGHS EACH WORD EQUALLY BUT A TFIDF VECTORIZER ALTERS THE WEIGHT ACCORDING TO THE NUMBER OF TIMES IT  OCCURS IN A DOCUMENT NAMELY TIME FREQUENCY INVERSE DOCUMENT FREQUENCY"
   ]
  },
  {
   "cell_type": "code",
   "execution_count": 49,
   "metadata": {},
   "outputs": [
    {
     "name": "stdout",
     "output_type": "stream",
     "text": [
      "Ok so maybe I would have given this book a better ratings had I known it was a novella. The was such a huge lack of development making hard to connect with the characters.\n",
      "  (0, 1362)\t0.13035313654067052\n",
      "  (0, 8760)\t0.09523155895396453\n",
      "  (0, 1662)\t0.27822870837484875\n",
      "  (0, 8052)\t0.06611078299999242\n",
      "  (0, 3631)\t0.20402820201879862\n",
      "  (0, 4865)\t0.22585143204084407\n",
      "  (0, 2196)\t0.24832769440863245\n",
      "  (0, 5478)\t0.07400495225868679\n",
      "  (0, 4519)\t0.2576024870188836\n",
      "  (0, 3908)\t0.26488210151131114\n",
      "  (0, 7630)\t0.19059067373490707\n",
      "  (0, 7929)\t0.1216279555206925\n",
      "  (0, 5422)\t0.29637294865271796\n",
      "  (0, 8608)\t0.1756996827665333\n",
      "  (0, 4277)\t0.07400495225868679\n",
      "  (0, 4502)\t0.2576024870188836\n",
      "  (0, 3577)\t0.1378255643573454\n",
      "  (0, 6375)\t0.3042146740705346\n",
      "  (0, 870)\t0.18459898932891372\n",
      "  (0, 991)\t0.07474490015781632\n",
      "  (0, 7976)\t0.0681972482382095\n",
      "  (0, 3394)\t0.22406631831434523\n",
      "  (0, 3669)\t0.10353998967413246\n",
      "  (0, 8823)\t0.1359295490801734\n",
      "  (0, 4969)\t0.22067369333765738\n",
      "  (0, 7280)\t0.116347933651943\n",
      "  (0, 5496)\t0.2381194715517507\n"
     ]
    }
   ],
   "source": [
    "from sklearn.feature_extraction.text import TfidfVectorizer\n",
    "vectorizer = TfidfVectorizer()\n",
    "train_x_vectorizer = vectorizer.fit_transform(train_x)\n",
    "\n",
    "test_x_vectorizer = vectorizer.transform(test_x)\n",
    "\n",
    "print(train_x[0])\n",
    "print(train_x_vectorizer[0])"
   ]
  },
  {
   "cell_type": "code",
   "execution_count": null,
   "metadata": {},
   "outputs": [],
   "source": []
  },
  {
   "cell_type": "code",
   "execution_count": null,
   "metadata": {},
   "outputs": [],
   "source": []
  },
  {
   "cell_type": "markdown",
   "metadata": {},
   "source": [
    "## CLASSIFIERS svm,decision tree, multinomial naive bayes "
   ]
  },
  {
   "cell_type": "code",
   "execution_count": 77,
   "metadata": {},
   "outputs": [
    {
     "data": {
      "text/plain": [
       "array(['POSITIVE'], dtype='<U8')"
      ]
     },
     "execution_count": 77,
     "metadata": {},
     "output_type": "execute_result"
    }
   ],
   "source": [
    "from sklearn import svm\n",
    "\n",
    "clf_svm = svm.SVC(kernel='linear')\n",
    "\n",
    "clf_svm.fit(train_x_vectorizer,train_y)\n",
    "\n",
    "clf_svm.predict(test_x_vectorizer[0])"
   ]
  },
  {
   "cell_type": "code",
   "execution_count": 78,
   "metadata": {},
   "outputs": [
    {
     "data": {
      "text/plain": [
       "array(['NEGATIVE'], dtype='<U8')"
      ]
     },
     "execution_count": 78,
     "metadata": {},
     "output_type": "execute_result"
    }
   ],
   "source": [
    " from sklearn.tree import DecisionTreeClassifier\n",
    "    \n",
    "clf_dct = DecisionTreeClassifier()\n",
    "\n",
    "clf_dct.fit(train_x_vectorizer,train_y)\n",
    "\n",
    "clf_dct.predict(test_x_vectorizer[0])"
   ]
  },
  {
   "cell_type": "code",
   "execution_count": 79,
   "metadata": {},
   "outputs": [
    {
     "data": {
      "text/plain": [
       "array(['POSITIVE'], dtype='<U8')"
      ]
     },
     "execution_count": 79,
     "metadata": {},
     "output_type": "execute_result"
    }
   ],
   "source": [
    "from sklearn.naive_bayes import MultinomialNB\n",
    "\n",
    "clf_nb = MultinomialNB()\n",
    "\n",
    "clf_nb.fit(train_x_vectorizer.toarray(),train_y)\n",
    "\n",
    "clf_nb.predict(test_x_vectorizer[0])"
   ]
  },
  {
   "cell_type": "markdown",
   "metadata": {},
   "source": [
    "## EVALUATION"
   ]
  },
  {
   "cell_type": "markdown",
   "metadata": {},
   "source": [
    "#### mean accuracy using score()"
   ]
  },
  {
   "cell_type": "code",
   "execution_count": 53,
   "metadata": {},
   "outputs": [
    {
     "name": "stdout",
     "output_type": "stream",
     "text": [
      "0.8076923076923077\n",
      "0.6586538461538461\n",
      "0.8125\n"
     ]
    }
   ],
   "source": [
    "print(clf_svm.score(test_x_vectorizer,test_y))\n",
    "print(clf_dct.score(test_x_vectorizer,test_y))\n",
    "print(clf_nb.score(test_x_vectorizer,test_y))"
   ]
  },
  {
   "cell_type": "markdown",
   "metadata": {},
   "source": [
    "#### F1 SCORE"
   ]
  },
  {
   "cell_type": "code",
   "execution_count": 54,
   "metadata": {},
   "outputs": [
    {
     "data": {
      "text/plain": [
       "array([0.80582524, 0.80952381])"
      ]
     },
     "execution_count": 54,
     "metadata": {},
     "output_type": "execute_result"
    }
   ],
   "source": [
    "from sklearn.metrics import f1_score\n",
    "\n",
    "f1_score(test_y, clf_svm.predict(test_x_vectorizer), average= None, labels =[Sentiment.Positive , Sentiment.Negative])\n"
   ]
  },
  {
   "cell_type": "code",
   "execution_count": 55,
   "metadata": {},
   "outputs": [
    {
     "data": {
      "text/plain": [
       "array(['NEGATIVE', 'NEGATIVE', 'POSITIVE'], dtype='<U8')"
      ]
     },
     "execution_count": 55,
     "metadata": {},
     "output_type": "execute_result"
    }
   ],
   "source": [
    "test_set = ['i hate this book','it was okay','amazing']\n",
    "new_test = vectorizer.transform(test_set)\n",
    "\n",
    "clf_svm.predict(new_test)"
   ]
  },
  {
   "cell_type": "markdown",
   "metadata": {},
   "source": [
    "### A COUNT VECTORIZER WEIGHS EACH WORD EQUALLY BUT A TFIDF VECTORIZER ALTERS THE WEIGHT ACCORDING TO THE NUMBER OF TIMES IT  OCCURS IN A DOCUMENT NAMELY TIME FREQUENCY INVERSE DOCUMENT FREQUENCY"
   ]
  },
  {
   "cell_type": "code",
   "execution_count": 56,
   "metadata": {},
   "outputs": [],
   "source": [
    "# see above"
   ]
  },
  {
   "cell_type": "markdown",
   "metadata": {},
   "source": [
    "## IMPROVING MODEL EVEN FURTHER"
   ]
  },
  {
   "cell_type": "markdown",
   "metadata": {},
   "source": [
    "### USING GRIDSEARCH To automatically find best parameters"
   ]
  },
  {
   "cell_type": "code",
   "execution_count": 57,
   "metadata": {},
   "outputs": [
    {
     "data": {
      "text/plain": [
       "GridSearchCV(cv=5, estimator=SVC(),\n",
       "             param_grid={'C': (1, 4, 8, 6, 10), 'kernel': ('linear', 'rbf')})"
      ]
     },
     "execution_count": 57,
     "metadata": {},
     "output_type": "execute_result"
    }
   ],
   "source": [
    "from sklearn.model_selection import GridSearchCV\n",
    "\n",
    "svc=svm.SVC()\n",
    "\n",
    "parameters = {'kernel':('linear','rbf'),'C': (1,4,8,6,10)}\n",
    "clf = GridSearchCV(svc,parameters,cv=5)\n",
    "clf.fit(train_x_vectorizer,train_y)\n",
    "\n",
    "\n"
   ]
  },
  {
   "cell_type": "code",
   "execution_count": 58,
   "metadata": {},
   "outputs": [
    {
     "name": "stdout",
     "output_type": "stream",
     "text": [
      "0.8076923076923077\n"
     ]
    }
   ],
   "source": [
    "print(clf.score(test_x_vectorizer,test_y)) #ACCURACY IS 81%"
   ]
  },
  {
   "cell_type": "markdown",
   "metadata": {},
   "source": [
    "## SAVING THE MODEL"
   ]
  },
  {
   "cell_type": "code",
   "execution_count": 59,
   "metadata": {},
   "outputs": [],
   "source": [
    "#using the library pickle\n",
    "\n",
    "import pickle\n",
    "file =\"./Users/sunja/10daysofpy/ML/finished_model.pkl\"\n",
    "\n",
    "with open(filename,'wb') as f :  #wb=write buffer\n",
    "    pickle.dump(clf,f)                                                               #dump saves the file in the location"
   ]
  },
  {
   "cell_type": "code",
   "execution_count": 65,
   "metadata": {},
   "outputs": [],
   "source": [
    "##Load model\n",
    "\n",
    "with open(filename,'rb') as f :\n",
    "    loaded_clf = pickle.load(f)"
   ]
  },
  {
   "cell_type": "code",
   "execution_count": 75,
   "metadata": {},
   "outputs": [
    {
     "data": {
      "text/plain": [
       "'NEGATIVE'"
      ]
     },
     "execution_count": 75,
     "metadata": {},
     "output_type": "execute_result"
    }
   ],
   "source": [
    "test_y[9]"
   ]
  },
  {
   "cell_type": "code",
   "execution_count": 76,
   "metadata": {},
   "outputs": [
    {
     "data": {
      "text/plain": [
       "array(['NEGATIVE'], dtype='<U8')"
      ]
     },
     "execution_count": 76,
     "metadata": {},
     "output_type": "execute_result"
    }
   ],
   "source": [
    "loaded_clf.predict(test_x_vectorizer[9])"
   ]
  },
  {
   "cell_type": "code",
   "execution_count": null,
   "metadata": {},
   "outputs": [],
   "source": []
  }
 ],
 "metadata": {
  "anaconda-cloud": {},
  "kernelspec": {
   "display_name": "Python 3",
   "language": "python",
   "name": "python3"
  },
  "language_info": {
   "codemirror_mode": {
    "name": "ipython",
    "version": 3
   },
   "file_extension": ".py",
   "mimetype": "text/x-python",
   "name": "python",
   "nbconvert_exporter": "python",
   "pygments_lexer": "ipython3",
   "version": "3.8.5"
  }
 },
 "nbformat": 4,
 "nbformat_minor": 1
}
